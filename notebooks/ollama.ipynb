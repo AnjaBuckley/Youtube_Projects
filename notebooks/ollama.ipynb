{
 "cells": [
  {
   "cell_type": "code",
   "execution_count": 2,
   "metadata": {},
   "outputs": [
    {
     "name": "stdout",
     "output_type": "stream",
     "text": [
      "The sky appears blue because of a phenomenon called Rayleigh scattering, named after the British physicist Lord Rayleigh, who first described it in the late 19th century.\n",
      "\n",
      "Here's what happens:\n",
      "\n",
      "1. When sunlight enters Earth's atmosphere, it encounters tiny molecules of gases such as nitrogen (N2) and oxygen (O2).\n",
      "2. These molecules scatter the light in all directions, but they scatter shorter (blue) wavelengths more than longer (red) wavelengths.\n",
      "3. This is because the smaller molecules are more effective at scattering the shorter wavelengths due to their smaller size relative to the wavelength of light.\n",
      "4. As a result, the blue light is scattered in all directions and reaches our eyes from all parts of the sky, making it appear blue.\n",
      "\n",
      "On the other hand, the longer wavelengths (like red and orange) continue to travel in a straight line and reach our eyes directly from the sun, which is why we see the sun as yellow or orange.\n",
      "\n",
      "It's worth noting that the color of the sky can change under different conditions, such as:\n",
      "\n",
      "* During sunrise and sunset, when the light has to travel through more of the atmosphere, scattering the shorter wavelengths even more and making the sky appear more red or orange.\n",
      "* On cloudy days, when the blue light is scattered by the water droplets in the clouds, making the sky appear gray or white.\n",
      "* At high altitudes, where there are fewer molecules to scatter the light, the sky can appear more intense blue.\n",
      "\n",
      "So, that's the science behind why the sky appears blue!\n",
      "The sky appears blue because of a phenomenon called Rayleigh scattering, named after the British physicist Lord Rayleigh, who first described it in the late 19th century.\n",
      "\n",
      "Here's what happens:\n",
      "\n",
      "1. When sunlight enters Earth's atmosphere, it encounters tiny molecules of gases such as nitrogen (N2) and oxygen (O2).\n",
      "2. These molecules scatter the light in all directions, but they scatter shorter (blue) wavelengths more than longer (red) wavelengths.\n",
      "3. This is because the smaller molecules are more effective at scattering the shorter wavelengths due to their smaller size relative to the wavelength of light.\n",
      "4. As a result, the blue light is scattered in all directions and reaches our eyes from all parts of the sky, making it appear blue.\n",
      "\n",
      "On the other hand, the longer wavelengths (like red and orange) continue to travel in a straight line and reach our eyes directly from the sun, which is why we see the sun as yellow or orange.\n",
      "\n",
      "It's worth noting that the color of the sky can change under different conditions, such as:\n",
      "\n",
      "* During sunrise and sunset, when the light has to travel through more of the atmosphere, scattering the shorter wavelengths even more and making the sky appear more red or orange.\n",
      "* On cloudy days, when the blue light is scattered by the water droplets in the clouds, making the sky appear gray or white.\n",
      "* At high altitudes, where there are fewer molecules to scatter the light, the sky can appear more intense blue.\n",
      "\n",
      "So, that's the science behind why the sky appears blue!\n"
     ]
    }
   ],
   "source": [
    "from ollama import chat\n",
    "from ollama import ChatResponse\n",
    "\n",
    "response: ChatResponse = chat(model='llama3.2', messages=[\n",
    "  {\n",
    "    'role': 'user',\n",
    "    'content': 'Why is the sky blue?',\n",
    "  },\n",
    "])\n",
    "print(response['message']['content'])\n",
    "# or access fields directly from the response object\n",
    "print(response.message.content)"
   ]
  }
 ],
 "metadata": {
  "kernelspec": {
   "display_name": ".venv",
   "language": "python",
   "name": "python3"
  },
  "language_info": {
   "codemirror_mode": {
    "name": "ipython",
    "version": 3
   },
   "file_extension": ".py",
   "mimetype": "text/x-python",
   "name": "python",
   "nbconvert_exporter": "python",
   "pygments_lexer": "ipython3",
   "version": "3.13.1"
  }
 },
 "nbformat": 4,
 "nbformat_minor": 2
}
